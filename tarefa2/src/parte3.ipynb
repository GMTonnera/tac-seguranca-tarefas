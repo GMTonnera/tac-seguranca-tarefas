{
 "cells": [
  {
   "cell_type": "markdown",
   "id": "cf5168ad",
   "metadata": {},
   "source": [
    "# Implementação dos modos de operação\n"
   ]
  },
  {
   "cell_type": "markdown",
   "id": "ae85f26a",
   "metadata": {},
   "source": [
    "### Inicialização dos Parâmetros"
   ]
  },
  {
   "cell_type": "markdown",
   "id": "9ec4c9e5",
   "metadata": {},
   "source": [
    "Importando bibliotecas"
   ]
  },
  {
   "cell_type": "code",
   "execution_count": 27,
   "id": "8f50177c",
   "metadata": {},
   "outputs": [],
   "source": [
    "from cryptography.hazmat.primitives.ciphers import Cipher, algorithms, modes\n",
    "from cryptography.hazmat.backends import default_backend\n",
    "from cryptography.hazmat.primitives import padding\n",
    "from os import urandom\n",
    "import base64\n",
    "import time"
   ]
  },
  {
   "cell_type": "markdown",
   "id": "9a1c2178",
   "metadata": {},
   "source": [
    "Inicializando chave, vetor de inicialização e mensagem"
   ]
  },
  {
   "cell_type": "code",
   "execution_count": 28,
   "id": "02a64794",
   "metadata": {},
   "outputs": [
    {
     "name": "stdout",
     "output_type": "stream",
     "text": [
      "Hexadecimal:\n",
      "\t- Chave: 0x7DC17751D6BF5805ADCE0F5178FA5292AEB5370513E17209C6C3881B5D5FB98F\n",
      "\t- Vetor de Inicialização: 0xA11B2F991D25D072C4518C48D7197869\n",
      "Base64:\n",
      "\t- Chave: fcF3Uda/WAWtzg9RePpSkq61NwUT4XIJxsOIG11fuY8=\n",
      "\t- Vetor de Inicialização: oRsvmR0l0HLEUYxI1xl4aQ==\n"
     ]
    }
   ],
   "source": [
    "# Chave\n",
    "key = urandom(32)  \n",
    "# Vetor de inicialização\n",
    "iv = urandom(16)\n",
    "# Mensagem\n",
    "message = \"\"\"Vamos todos cantar de coracao  \n",
    "A Cruz de Malta e o meu pendao  \n",
    "Tu tens o nome do heroico portugues  \n",
    "Vasco da Gama, a tua fama assim se fez  \n",
    "Tua imensa torcida e bem feliz  \n",
    "Norte-Sul, Norte-Sul deste Brasil  \n",
    "Tua estrela, na terra a brilhar  \n",
    "Ilumina o mar  \n",
    "No atletismo, es um braco  \n",
    "No remo, es imortal  \n",
    "No futebol, es um traco  \n",
    "De uniao Brasil-Portugal  \n",
    "No atletismo, es um braco  \n",
    "No remo, es imortal  \n",
    "No futebol, es um traco  \n",
    "De uniao Brasil-Portugal  \n",
    "Vamos todos cantar de coracao  \n",
    "A Cruz de Malta e o meu pendao!  \n",
    "Tu tens o nome do heroico portugues  \n",
    "Vasco da Gama, a tua fama assim se fez  \n",
    "Tua imensa torcida e bem feliz  \n",
    "Norte-Sul, Norte-Sul deste Brasil  \n",
    "Tua estrela, na terra a brilhar  \n",
    "Ilumina o mar  \n",
    "No atletismo, es um braco  \n",
    "No remo, es imortal  \n",
    "No futebol, es um traco  \n",
    "De uniao Brasil-Portugal  \n",
    "No atletismo, es um braco  \n",
    "No remo, es imortal  \n",
    "No futebol, es um traco  \n",
    "De uniao Brasil-Portugal  \n",
    "\"\"\".encode(\"utf-8\")\n",
    "\n",
    "print(\"Hexadecimal:\")\n",
    "print(\"\\t- Chave: 0x\"+ key.hex().upper())\n",
    "print(\"\\t- Vetor de Inicialização: 0x\"+ iv.hex().upper())\n",
    "\n",
    "print(\"Base64:\")\n",
    "print(\"\\t- Chave: \"+ base64.b64encode(key).decode())\n",
    "print(\"\\t- Vetor de Inicialização: \"+ base64.b64encode(iv).decode())"
   ]
  },
  {
   "cell_type": "markdown",
   "id": "1e276f0f",
   "metadata": {},
   "source": [
    "Adicionando padding na mensagem"
   ]
  },
  {
   "cell_type": "code",
   "execution_count": 29,
   "id": "7db0dcca",
   "metadata": {},
   "outputs": [
    {
     "name": "stdout",
     "output_type": "stream",
     "text": [
      "b'Vamos todos cantar de coracao  \\nA Cruz de Malta e o meu pendao  \\nTu tens o nome do heroico portugues  \\nVasco da Gama, a tua fama assim se fez  \\nTua imensa torcida e bem feliz  \\nNorte-Sul, Norte-Sul deste Brasil  \\nTua estrela, na terra a brilhar  \\nIlumina o mar  \\nNo atletismo, es um braco  \\nNo remo, es imortal  \\nNo futebol, es um traco  \\nDe uniao Brasil-Portugal  \\nNo atletismo, es um braco  \\nNo remo, es imortal  \\nNo futebol, es um traco  \\nDe uniao Brasil-Portugal  \\nVamos todos cantar de coracao  \\nA Cruz de Malta e o meu pendao!  \\nTu tens o nome do heroico portugues  \\nVasco da Gama, a tua fama assim se fez  \\nTua imensa torcida e bem feliz  \\nNorte-Sul, Norte-Sul deste Brasil  \\nTua estrela, na terra a brilhar  \\nIlumina o mar  \\nNo atletismo, es um braco  \\nNo remo, es imortal  \\nNo futebol, es um traco  \\nDe uniao Brasil-Portugal  \\nNo atletismo, es um braco  \\nNo remo, es imortal  \\nNo futebol, es um traco  \\nDe uniao Brasil-Portugal  \\n\\x05\\x05\\x05\\x05\\x05'\n"
     ]
    }
   ],
   "source": [
    "padder = padding.PKCS7(128).padder()\n",
    "new_message = padder.update(message) + padder.finalize()\n",
    "print(new_message)"
   ]
  },
  {
   "cell_type": "markdown",
   "id": "e33119be",
   "metadata": {},
   "source": [
    "Observa-se o padding ao final do objeto do tipo Bytes: \\x05\\x05\\x05\\x05\\x05"
   ]
  },
  {
   "cell_type": "markdown",
   "id": "19a9ca97",
   "metadata": {},
   "source": [
    "### 1. ECB"
   ]
  },
  {
   "cell_type": "markdown",
   "id": "7327476a",
   "metadata": {},
   "source": [
    "Criando os objetos para cifrar a mensagem"
   ]
  },
  {
   "cell_type": "code",
   "execution_count": 30,
   "id": "b0ebd2af",
   "metadata": {},
   "outputs": [],
   "source": [
    "# Criação do objeto AES-CBC\n",
    "cipherECB = Cipher(algorithms.AES(key), modes.ECB(), backend=default_backend())\n",
    "encryptorECB = cipherECB.encryptor()"
   ]
  },
  {
   "cell_type": "markdown",
   "id": "ec4f2b64",
   "metadata": {},
   "source": [
    "Cifrando a mensagem"
   ]
  },
  {
   "cell_type": "code",
   "execution_count": 31,
   "id": "6e4f1a87",
   "metadata": {},
   "outputs": [
    {
     "name": "stdout",
     "output_type": "stream",
     "text": [
      "Mensagem criptografada: 3+rBJ4HMEufcz61k9Ojdp2C0BPalPe3ZK2XpcwnJoAuqt1jiA/HTRppoYHoD/swnyzHuKvU7pKR+ilE7vAQ5hrGm4bLZoO9EWIKMQQTh5fyQBSTEFCD1CWJjoJ/RnIjCu1b7CGgiY8zyOJQlYA1OT9D3kv32XmDLvYKKfcfP+2EZY0Ks9CnNpOcL5hLYWC2WUMKwxCTNKJyIo0T19ym6hIEe9pI3sec8G0623PbPmkmboR76VngCa0zT1wz3v8UXm7V8aZOyJWq3xjzNvFqGnjHUJaWraf6VBVqnlFPKMUQalJzPuZFK/ZIZ7nYJueKpctZW5IGuFOhjDQcNDWQ8iWAwUuptH2gZPyClxzTjn/Me+y/o5EUAvsVB9Jei77xqR19yIiyTSfdrZA2NHRF2Up//hJ//0CcBFYLtyVpbvLC8vGQ1qsJsiudZIkxsx2HDbfD8xgVRifM2a3vyvhM39bXzEDg156jmtGTkptBBoRdhrMhiOjv6w7Q+4Y/mswnVJevRcgERxCNhUNcRPtPu3yppr7ZwyBEkXSDO0TXJ8IW5Nee5dxhyn2ifmnXPc3kkHBQGjBAlLksS/AkEANxdvpml4QyyD/FFZb65o1xGI1N9PL1r7tJRKFXA4F8TMRRosDtpS8WLGSin+HDmu5xAOUEmDQDgkGqo7GJHbZYYyw7QtSzG5AmHydWUwkjM543dWny6dmbfANhgoGyu9j4/Y4yALNTNZ1foRF0uq6JN2HSD9kMNpK5i6C1Bxfxw3P9ewEc3SY+RlTSKnlhHZbguLiRYo3VusfWnXqH7yzCE/IkyT4ZAA8WLAY917Fpr84vBILrMOBcZSsAiRpKgWQDxLLkzcgGY4uK9mi8lhkwUWjbYLS9MFr8xmPlu2OX2RAD1fYfYV3CrFNZTBRanokcTX2NvLkCvPYpBmlwnHVR+mYc0tC+AcDTNXm932sVshlN+ZcHaZazUhRaafM/kPQ0cEqo/yAoflVLs05Gt7U3hftmx7WL9bQsyxv0N+XqiV2/zAEELoObVmJGDPs4A6AsGXFUvc6kKVidEll2IXKsFR7DZW6af57i27FHOZR58elA/lGSHfstOdKHVj+ELHrfApZWzmnGuklY60ItjTyZ0iDXo/f1s86iLwG4XVGuBjZWFOlW5FXOU2LWsqS7cO1KIE27QayhKmEYx9jOZA/096JUJAB0RNanVZ3sr/TISsGa4Oephrg7b1ImeySMcjriFeLHjADd3SL9/eMXlUC+gSCE=\n",
      "Tempo de execução: 0.000155 segundos\n"
     ]
    }
   ],
   "source": [
    "# Tempo inicial\n",
    "t_0 = time.perf_counter()\n",
    "\n",
    "# Cifrando a mensagem com padding\n",
    "cipherTextECB = encryptorECB.update(new_message) + encryptorECB.finalize()\n",
    "\n",
    "# Tempo final\n",
    "t_f = time.perf_counter()\n",
    "\n",
    "print(\"Mensagem criptografada:\", base64.b64encode(cipherTextECB).decode())\n",
    "print(f\"Tempo de execução: {t_f - t_0:.6f} segundos\")"
   ]
  },
  {
   "cell_type": "markdown",
   "id": "7d4a2875",
   "metadata": {},
   "source": [
    "### 2. CBC"
   ]
  },
  {
   "cell_type": "markdown",
   "id": "4eb72f3b",
   "metadata": {},
   "source": [
    "Criando os objetos para cifrar a mensagem"
   ]
  },
  {
   "cell_type": "code",
   "execution_count": 32,
   "id": "759d771e",
   "metadata": {},
   "outputs": [],
   "source": [
    "cipherCBC = Cipher(algorithms.AES(key), modes.CBC(iv), backend=default_backend())\n",
    "encryptorCBC = cipherCBC.encryptor()"
   ]
  },
  {
   "cell_type": "markdown",
   "id": "dabbe6fd",
   "metadata": {},
   "source": [
    "Cifrando a mensagem"
   ]
  },
  {
   "cell_type": "code",
   "execution_count": 33,
   "id": "42d4850a",
   "metadata": {},
   "outputs": [
    {
     "name": "stdout",
     "output_type": "stream",
     "text": [
      "Mensagem criptografada: 9yakkz1PqdaOMCFqKwRgvfsHKd9ebHOG+1tQKo9oXmdj2L+lM+XjrsIvyauMnVnIy0sI/6qxZLocoWCGTY4Ld3qk9XwPl9gp68erVy3n1Psdtz6L8tdY5vAFhJexMMzmx+daxV001Pm/aSin9z7jwlAwwrbFbWLrSAGB/91vWcbJ883YxOeLzc99I/usotre2qt4fodRbS/iZPYGweeOramFbGKkzdlzyMZEnGS75xcI8BIJVHVbjpfilXvFmH1eH6rKqwt8PGjmm44nnp7OhFzKj0v061clLwsGUReLbKO0Ldpahi5lzxum1lXSihkbWorbY59OYdbWYu+TpFKM8vi/d/do1/tOwWlxXSmf4UJTDHg58tjudbXu5NMMlGcHrd+HSvYCD/aDPbqKfvN1MXc9LGC7OHOGXHprW1FmdmlZphqkL9gVKWegPHz/i1y9dJ3u1a8uue515zFOgz5hcRLJ4M8I9yaGnrQtGv14pMU2zQiYRmY9o9fg9ZM+VsBBYdj/fVAY3LoeeqdIDAULRJ4pT0nZozH8T1Vqi+woUeUvJoyyF7XxNsuVXvD9EV3WBZnEA+TqRwQN0a6rsFOv8IqElQf4dTAtKXcIs0vCNSg6CrETPhEpB8H+CE+0YEDFNcs/kxEV7HeIJStqbgudRmKldEdPg4wnviNBDxoUFuF0FBrqng60dwF5wyBcsOrDJjfwE9DEENOUqHC/e4v/yLCwOh/8RObJPPwb5xa58J0/iWUGh3248oA2UolIG+j300ZPhDZwXVODFPkTXzv4TqLyne7K5oFqafPMBOSSmn8mii+M12P5F9S5+yyH37wcLH3Vzz5Io6iySSv317QipjQtNrdIT4ZSrAAvkSm7fp0kGVQTLfNaEa6cWOz8M1x/WypftoxITXBReaop2m1RulgqfgPGhpjpR7MVtFWSpf6I+KRICfmRr9HJVBQefMC7XjR0oiNyEECzT07QPo+i0Qqq4ePqrd98jFVyEe5NvlPd6rdaSAj+jbEoWe/iPnIK1qORnbaWWMsehhJcOwuc1EO0JmlLrK0/iSl3+wimLjMJ5n/1uvJ6KeVqR7MRUcRKiHk5MMLAQabbFdkTzrc3C2bRLcCTsTjetFheTj3RY/2GLPosgZTXOINMmQq50xYmsV3iOn0Lvx512mgOZ8BNEW8AdcuOvip5ChoQnqt44x3VV+7OftEXZ1YyAlTufGlFF6e6fp9zKBRsH5KDXiXX0cB7lyRvPdm1nTjeankUNhg=\n",
      "Tempo de execução: 0.000660 segundos\n"
     ]
    }
   ],
   "source": [
    "# Tempo inicial\n",
    "t_0 = time.perf_counter()\n",
    "\n",
    "# Cifrando a mensagem com padding\n",
    "cipherTextCBC = encryptorCBC.update(new_message) + encryptorCBC.finalize()\n",
    "\n",
    "# Tempo final\n",
    "t_f = time.perf_counter()\n",
    "\n",
    "print(\"Mensagem criptografada:\", base64.b64encode(cipherTextCBC).decode())\n",
    "print(f\"Tempo de execução: {t_f - t_0:.6f} segundos\")"
   ]
  },
  {
   "cell_type": "markdown",
   "id": "5b620476",
   "metadata": {},
   "source": [
    "### 3. CFB"
   ]
  },
  {
   "cell_type": "markdown",
   "id": "fc718ba8",
   "metadata": {},
   "source": [
    "Criando os objetos para cifrar a mensagem"
   ]
  },
  {
   "cell_type": "code",
   "execution_count": 34,
   "id": "45c4e9c3",
   "metadata": {},
   "outputs": [],
   "source": [
    "cipherCFB = Cipher(algorithms.AES(key), modes.CFB(iv), backend=default_backend())\n",
    "encryptorCFB = cipherCFB.encryptor()"
   ]
  },
  {
   "cell_type": "markdown",
   "id": "bf466ef9",
   "metadata": {},
   "source": [
    "Cifrando a mensagem"
   ]
  },
  {
   "cell_type": "code",
   "execution_count": 35,
   "id": "949635f3",
   "metadata": {},
   "outputs": [
    {
     "name": "stdout",
     "output_type": "stream",
     "text": [
      "Mensagem criptografada: 04DFZBc2ZcFx0lDgxzSDCS9jGh7I4NSMcOaL4xk3K5+mxz02ijwjxms8WocoVWBm4oEudQ0VS7IzG25ja8GjS5D995SDA7omGUCXQeHEm/FsUhHEvHJsUdcUu7YZYv/JzXbxjYQqBfbSUOH5NqcNnxxRgGXisSy2ui5/9iexxXe8Ix0fNBAlQMkfeaueXU/87JeYgBuFbW7y+r5DhJHpGf9ya2asDylBYT0P6LZZt8SMzH9LkNZbxJcDbNly6/04A7MwydIjwHWGOkAj9/lsSnUHt/H7+CPnxOhZ3IX+WDa7Ib+LNFbIjq8qWzmwfOJqLKslFDXBoRahfkYhYfl1l6XrTAnmXnfp3P0CECfTYUAwgp1dt/avYW94nIGgZ7pLe85GM16Brt84H31uuo5D04QcVYnxMp25UQC+Y1Ozy90gZKK5JPGlNkrgi6IB7/vspDtvYaNMrAJ8CiarRbtOV76RtRaf+dSeQCbJXvyM2yPPa6ka5KLBLqYX04l1B32fZlerY61QlAr6YaMhs49L47DwdzngmZwOAtrlmCifwVVBOPI2EV4RHcnG8bRiKMkTctb6ipQblFiCKPWF/i8cd6YsbeBi4IGVSKP+n39fEt3TQqoQ6SsvkH7aFJ89xLflRTuRpf0t6AL16rcTJlhKT/F7jdsMh+UPQHXd151BWBEtkDVlnOQz7bsj/0N8PsEVnzenaFV26HQnwF5FKU8vbhIJ/ETqOfOPBwswPiyV5xFNbb/aD7jkWFXRIOLEUgsEFvB87Qi8VFu1d42CN9LD5F4cIOZDqGB+ovlMGW+TQO7lXN2Z7owkItaKlEYMnxIoviPxGuL6Twr9v5+EK7B8hy4c3IugI6W6h66tddGGL6El6Ma+QVbjxNzSO+ERk/ZoCFy6GjB+HYyfI5v2op/c2ApJ9iSOY0jyljBHkLQfV7Ylj7/KEAGVuylQhKipS7vHA3i7ZNBrgxB5picN5j2lj1ri1javmeiePKu9hG6zq8EO6ti0iHRdYl3Zy8gpB0WqAYKh0/+VU/37uZrpGiPmiYPwZX2OTlwaTlUXkivcjRWw/9Sz1EPOO1t2rpNjwwqSTjciePwOTF8irBHAon0K73rywdwDe6MFWO+mpgtmqQQhxTjxMLM1QuZLE2ulZvrCn5fr/SpWY12Nu6X6f3PxvGy8PdGxSUJMaMPvAkqAOBrn4hW8Z/zDEJ5nYhIhhoDJ5PWC3l+UJbVAzKAua4WwYwGcSUHOX2gJ/DBLuo/biHs=\n",
      "Tempo de execução: 0.000236 segundos\n"
     ]
    }
   ],
   "source": [
    "# Tempo inicial\n",
    "t_0 = time.perf_counter()\n",
    "\n",
    "# Cifrando a mensagem com padding\n",
    "cipherTextCFB = encryptorCFB.update(new_message) + encryptorCFB.finalize()\n",
    "\n",
    "# Tempo final\n",
    "t_f = time.perf_counter()\n",
    "\n",
    "print(\"Mensagem criptografada:\", base64.b64encode(cipherTextCFB).decode())\n",
    "print(f\"Tempo de execução: {t_f - t_0:.6f} segundos\")"
   ]
  },
  {
   "cell_type": "markdown",
   "id": "bfa16cc6",
   "metadata": {},
   "source": [
    "### 4. OFB"
   ]
  },
  {
   "cell_type": "markdown",
   "id": "0e858d2b",
   "metadata": {},
   "source": [
    "Criando os objetos para cifrar a mensagem"
   ]
  },
  {
   "cell_type": "code",
   "execution_count": 36,
   "id": "2cd3c3b0",
   "metadata": {},
   "outputs": [],
   "source": [
    "cipherOFB = Cipher(algorithms.AES(key), modes.OFB(iv), backend=default_backend())\n",
    "encryptorOFB = cipherOFB.encryptor()"
   ]
  },
  {
   "cell_type": "markdown",
   "id": "345aec38",
   "metadata": {},
   "source": [
    "Cifrando a mensagem"
   ]
  },
  {
   "cell_type": "code",
   "execution_count": 37,
   "id": "d09a1af0",
   "metadata": {},
   "outputs": [
    {
     "name": "stdout",
     "output_type": "stream",
     "text": [
      "Mensagem criptografada: 04DFZBc2ZcFx0lDgxzSDCbQZi/0v6CY/XF/+5VAZwZ/+68HjiQS1Dgo8iKpKN2qV8mbnuJQQx+LOcgeMs84+ulutI55ddlr6tJltkTOjisnSul2nUZ8dQyOv+bO/baInnRLzECtgBfd5doRly8gYOgwov7K+QwS9PgB36qolbG3hMGt9DKun9yrgs166zmF5SKXbFLaPbZplpgQRv5O1MTerTfbpHkB0AhDVlqAZSF8CFVAFSOp1sxZaQ1tQbHgrWDdjNB4XXVqzzT89IJkSFyglCDIxqjK+1r4cuK6mwdK0ere2sRIyyZmaxr2qok4Z2uDYXj0QgZXbVd93bMAYtljjXTBkRa6xg4v8OSBbmxrCM6FPgfX4bJqEhDzZekVQCbahTx46pgPJY4LkH75iz/QVbbap7fxWPIgXAkjsbZC919AiP1EsYGINQFyi4nPvE9/nkMrYNbB3HtfdH+5NGWEHjWeM5o/hVJ7UdLhDm2KTWzK0E0JUzgEJBKxpMphBiL+riYjNujo7jns3a5vjZD0SmoNUxuU+KGZlmLZCujwWieh27bwoPqWISH+aAe0F1xI/BuQ4XmG3IX1B9w5woPFL2O6JDafcvnBIXtlJ+lFhFXKzCz3G1b+mpi/2GSkjuqiWCzNWAkw3ViRHK9L643H/OXw58eUanEr8VC3kmcgNMWt+KYWtsYRcAIE6a8YmxlcBMVIaVKHq6kwq/vtTnFSSMge7bYUCIcEWqfaMtGLD5ijekW2guboAv7v1H7ALT+cqiP38WPiZ65nYL26rHMcK4g6xd544OLSFqwI2srrcTKgywaXmnUNW0FotNAFJZe3RafaYhnecHvsbRHWKnb4mx555PxW/z5EP0iGSw9k09UZrAsC7FCK5zdVt/2WAkjqBcr3SxegDmHzXEyz2RAoEDq3z6A+oV/rlmV2yL9L3nweBCfi9whSEauyaMl4rlMs3VqI7fM5PQHFWbNjDGRCN3P3FqyFQKRVKWk3LVLCTthid87Nt3QqFQ4q7IJMJG/Yma8Wvb1PLx3WGDRCyZhh/3ZFZTbPbXADLpE6euHcSpPnqAw+6nGD7lUvJ8kd8g0ui4nKx8kFbLZ9MMykRUBUPMjmN137z08HPc609qL/vef2h3Dv/oTowLfVZB+CvcTgnOSGOHAcG8fW7QW06cGb4S9IEMAn8NlWBFGnbSQkvEHMqOffTc5F8QMrN+f3vy0LsPkpVtD9X7zdsxJNcmbyZ33Lg14ihnFNgAb0adl0=\n",
      "Tempo de execução: 0.000347 segundos\n"
     ]
    }
   ],
   "source": [
    "# Tempo inicial\n",
    "t_0 = time.perf_counter()\n",
    "\n",
    "# Cifrando a mensagem com padding\n",
    "cipherTextOFB = encryptorOFB.update(new_message) + encryptorOFB.finalize()\n",
    "\n",
    "# Tempo final\n",
    "t_f = time.perf_counter()\n",
    "\n",
    "print(\"Mensagem criptografada:\", base64.b64encode(cipherTextOFB).decode())\n",
    "print(f\"Tempo de execução: {t_f - t_0:.6f} segundos\")"
   ]
  },
  {
   "cell_type": "markdown",
   "id": "7441b84c",
   "metadata": {},
   "source": [
    "### 5. CTR"
   ]
  },
  {
   "cell_type": "markdown",
   "id": "232fc49f",
   "metadata": {},
   "source": [
    "Criando os objetos para cifrar a mensagem"
   ]
  },
  {
   "cell_type": "code",
   "execution_count": 38,
   "id": "1c2d6ee7",
   "metadata": {},
   "outputs": [],
   "source": [
    "# Criação do objeto AES-CBC\n",
    "cipherCTR = Cipher(algorithms.AES(key), modes.CTR(iv), backend=default_backend())\n",
    "encryptorCTR = cipherCTR.encryptor()"
   ]
  },
  {
   "cell_type": "markdown",
   "id": "36421e44",
   "metadata": {},
   "source": [
    "Cifrando a mensagem"
   ]
  },
  {
   "cell_type": "code",
   "execution_count": 39,
   "id": "edbda31d",
   "metadata": {},
   "outputs": [
    {
     "name": "stdout",
     "output_type": "stream",
     "text": [
      "Mensagem criptografada: 04DFZBc2ZcFx0lDgxzSDCS2jSl/RK3lEgPVkTGRt+lrv4Ojt5e1L7mHCnC5edkYz0czYmuPmXMnUKIq/+yxFebwSMIF/Zh+ZutLbqLsJNsH7ePyKfYJct777R+9IVoyDpw2eGNOLpKHD4lvX0kY4php6MZ0LtzWVABE07ZhcXiqBfl3o0KQLyIyf3d07dQ9shqVgTSYylVG3I1AC6ZzHJbyZWVZ5QOmDCPAk4v81Y2TsQImliD/24chxoKRDhYZKNDGdubjhNnbdNYrp6ZaH6930Irm0byZ/99qFXaas2D76JNInsNaCrzD7pnJD8XXO6rrW5ntguwR2i/ga1WLzAJHBiFsvMTwWA5HqFyipViDsoMIzWT5ks/IcIqj9ONf04Lf/OBiBXT0NMl3bay9MqVQTp5Pxie1pPW3sNny4vKqXaOBcx93hkU4UjjabfxZj10NwQJykj9WNJJHXVJrIwUQPjXw1QwJKQLhFCncU43/wToOOJ+da+/owtaccZKlfeL8YvB/1sJ+wvp1AVRIcoVYa9QqfdQrxfL4TLUt9FvQRtGSp5o3ohusYYdmc5PU4M8iSj890taV5DpbvmFNvhE8ryf/ZajZz4slBgJxOyQnd5qcLhntVtcQZ5Soii/aSmcTNxK67dZS1Bi6ElieohPoiIkeOf3E0zsbti7cEOdF5PleyEtgJgBWiomT+Fp0oD1NptrEqxGal1RN33gkRphUV2stmRXR1oAmfUNAPo/MJhwz5G6hdZqW1hUoqfljmfr8rbXkAhVsSDebCNGRBsbxzcq0BmJDPU8XCZzd3DUuQR7lxhlep4o39A6ufRcqPav3RoyQcczu42uDUEhbdXq8wtQ1tpx1xD4YKfU8sQQfib/ffs45EWzU+AhayyeL4kqoj7xy5zX1PgzkNunMX6RaB3W63gxYW/Mrh7DqB4KSicD5Le2tb2SjrtcZSRLYNjBv5f9ios0s/qUmlfDVQ8ZqXNjFehPlC9JZvI0z1Zviya8nFsmDlRKlyX65ByD88lEBweIlRO5xp1q6TgjKEhAqBfR+2hE5r3Ppmo342+UZquxCso8zGl2nXAQLv+PQ3nWOS3VztVN1lWbyhhBm6NBdc5Xbzlr5V+AU56ZZvxCFsd8Njzjj60dlNkP5pjf9fd3pPTK84aqslU4mQfFOFVkG4gmX2d4oQ8lvrO9WM3ysDT/4bT8swEohaCkGtlLSnbO3Ngvu6/vNn3oRyhyZvfnkHHUb6oVbi03Ok8qL2CkQ=\n",
      "Tempo de execução: 0.000451 segundos\n"
     ]
    }
   ],
   "source": [
    "# Tempo inicial\n",
    "t_0 = time.perf_counter()\n",
    "\n",
    "# Cifrando a mensagem com padding\n",
    "cipherTextCTR = encryptorCTR.update(new_message) + encryptorCTR.finalize()\n",
    "\n",
    "# Tempo final\n",
    "t_f = time.perf_counter()\n",
    "\n",
    "print(\"Mensagem criptografada:\", base64.b64encode(cipherTextCTR).decode())\n",
    "print(f\"Tempo de execução: {t_f - t_0:.6f} segundos\")"
   ]
  },
  {
   "cell_type": "markdown",
   "id": "dad10619",
   "metadata": {},
   "source": [
    "### 6. Comparação entre os modos de operação"
   ]
  },
  {
   "cell_type": "markdown",
   "id": "c2b62bc3",
   "metadata": {},
   "source": [
    "| Modo | Segurança Computacional                                                                 | Aleatoriedade                                                                 | Tempo de Execução              | Eficiência                                                                                     | Vulnerabilidades Conhecidas                                                                 |\n",
    "|------|------------------------------------------------------------------------------------------|--------------------------------------------------------------------------------|-------------------------------|------------------------------------------------------------------------------------------------|----------------------------------------------------------------------------------------------|\n",
    "| ECB  | ❌ Fraca — cada bloco é cifrado isoladamente, sem IV ou randomização                     | ❌ Nenhuma — blocos iguais no plaintext geram blocos iguais no ciphertext       | 0.000155  segundos               | Rápido, mas **não paralelizável com segurança** porque a estrutura do plaintext é exposta   | Altamente vulnerável: revela padrões do plaintext, inutilizável para dados reais            |\n",
    "| CBC  | ✅ Boa — usa IV aleatório e encadeia blocos para quebrar padrões                          | ✅ Boa — blocos cifrados dependem dos blocos anteriores, garantindo aleatoriedade | 0.000660 segundos               | Cifração **não paralelizável**, mas decifração **paralelizável**                             | Padding oracle attack (em implementações vulneráveis), sensível à manipulação do IV         |\n",
    "| CFB  | ✅ Boa — transforma bloco em fluxo, cada byte depende dos anteriores                      | ✅ Boa — fluxo gerado varia conforme entrada e IV                               | 0.000236 segundos               | Serial: não permite paralelismo, mas permite cifrar tamanhos menores que 16 bytes            | Propagação de erros — um erro afeta dois blocos consecutivos                                |\n",
    "| OFB  | ✅ Boa — keystream independe do plaintext, mantendo segurança se IV for único             | ✅ Boa — keystream pseudoaleatório, não revela padrões                          | 0.000347 segundos               | **Totalmente paralelizável**, ideal para comunicação contínua                                | Fragilidade à perda de sincronismo — perda de bytes quebra a decifragem                     |\n",
    "| CTR  | ✅ Muito boa — usa contador único como IV e é resistente a análise de padrões             | ✅ Muito boa — contador diferente gera keystream único                          | 0.000451 segundos               | **Altamente eficiente** — cifragem e decifragem podem ser feitas em paralelo                 | Se o contador (nonce) for reutilizado, o sistema fica completamente quebrado                |\n"
   ]
  }
 ],
 "metadata": {
  "kernelspec": {
   "display_name": "Python 3",
   "language": "python",
   "name": "python3"
  },
  "language_info": {
   "codemirror_mode": {
    "name": "ipython",
    "version": 3
   },
   "file_extension": ".py",
   "mimetype": "text/x-python",
   "name": "python",
   "nbconvert_exporter": "python",
   "pygments_lexer": "ipython3",
   "version": "3.12.4"
  }
 },
 "nbformat": 4,
 "nbformat_minor": 5
}
