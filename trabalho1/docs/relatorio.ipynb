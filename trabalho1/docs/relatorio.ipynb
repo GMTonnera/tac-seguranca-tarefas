{
 "cells": [
  {
   "cell_type": "markdown",
   "id": "ff6bf96f",
   "metadata": {},
   "source": [
    "# Tópicos Avançados em Computadores - Trabalho 1\n",
    "\n",
    "Aluno: Gustavo Mello Tonnera (211055272)\n",
    "\n",
    "Universidade de Brasília \n",
    "\n",
    "2025.1"
   ]
  },
  {
   "cell_type": "markdown",
   "id": "5645d06f",
   "metadata": {},
   "source": [
    "### 1. Introdução\n",
    "\n",
    "O estudo e a aplicação de mecanismos de segurança são essenciais para a formação de profissionais capacitados em ciência da computação, especialmente no contexto de sistemas distribuídos e aplicações web. Este relatório descreve o desenvolvimento de um trabalho prático cujo principal objetivo é proporcionar ao estudante a oportunidade de aprender, de forma aplicada, conceitos fundamentais relacionados à autenticação segura, criptografia e assinatura digital.\n",
    "\n",
    "Proposto no âmbito da disciplina Tópicos Avançados em Segurança Computacional (2025/1), oferecida pelo Departamento de Ciência da Computação da Universidade de Brasília, o trabalho visa explorar a construção de uma aplicação cliente-servidor capaz de realizar comunicação segura utilizando o padrão REST e tokens JWT (JSON Web Token) assinados digitalmente. A atividade busca desenvolver habilidades práticas na implementação de mecanismos de autenticação baseados nos algoritmos criptográficos HMAC (Hash-based Message Authentication Code) e RSA, com foco em suas variantes PKCS#1 v1.5 e RSA-PSS.\n",
    "\n",
    "A experiência envolve tanto o armazenamento seguro de credenciais quanto a proteção da comunicação entre cliente e servidor, promovendo o entendimento sobre aspectos como confidencialidade, integridade e validade dos dados trocados. Para isso, o aluno é desafiado a implementar dois cenários distintos de autenticação: um utilizando HMAC e outro com assinaturas digitais baseadas em RSA. Cada abordagem é analisada com base em sua segurança, aplicabilidade e resistência a ataques, por meio de testes com tokens inválidos, expirados ou modificados.\n",
    "\n",
    "Além disso, o uso de ferramentas como o Wireshark permite examinar o tráfego de rede gerado durante a comunicação, promovendo uma análise crítica das vulnerabilidades e do comportamento dos sistemas sob diferentes condições. Assim, o trabalho contribui diretamente para o aprofundamento dos conhecimentos técnicos e o fortalecimento das competências práticas em segurança computacional. As demais seções do relatório apresentam os resultados obtidos no desenvolvimento do trabalho.\n"
   ]
  },
  {
   "cell_type": "markdown",
   "id": "55c64f42",
   "metadata": {},
   "source": [
    "### 2. REST API"
   ]
  },
  {
   "cell_type": "markdown",
   "id": "3bd450ed",
   "metadata": {},
   "source": [
    "EXPLICAÇÃO DO QUE É REST API"
   ]
  },
  {
   "cell_type": "markdown",
   "id": "9c092d22",
   "metadata": {},
   "source": [
    "As REST APIs são um estilo arquitetônico para a criação de serviços web, permitindo a comunicação entre sistemas distribuídos via requisições HTTP. Elas utilizam métodos como GET, POST, PUT, PATCH e DELETE para manipular recursos identificados por URLs únicas, com respostas geralmente fornecidas em formatos como JSON, devido à sua leveza e facilidade de integração.\n",
    "\n",
    "A simplicidade e a flexibilidade são vantagens fundamentais das REST APIs, pois se baseiam no protocolo HTTP, amplamente adotado, facilitando sua implementação e integração entre diferentes tecnologias. Além disso, sua arquitetura desacoplada proporciona escalabilidade e independência entre cliente e servidor, permitindo que ambos evoluam sem comprometer a comunicação. O uso de formatos compactos melhora o desempenho ao reduzir a quantidade de dados transferidos e o tempo de resposta, enquanto a possibilidade de armazenamento em cache otimiza ainda mais a eficiência.\n",
    "\n",
    "As REST APIs têm aplicações diversas, sendo essenciais em aplicações web, móveis, integração de sistemas corporativos, Internet das Coisas (IoT) e arquiteturas de microserviços. Além disso, muitas empresas disponibilizam APIs públicas, permitindo que desenvolvedores integrem seus sistemas a plataformas externas, como Twitter, Google Maps e Stripe, ampliando funcionalidades e conectividade entre diferentes serviços."
   ]
  },
  {
   "cell_type": "markdown",
   "id": "34546dab",
   "metadata": {},
   "source": [
    "#### 2.1 API Autenticação"
   ]
  },
  {
   "cell_type": "markdown",
   "id": "73b392bf",
   "metadata": {},
   "source": [
    "EXPLICAR COMO SERÁ FEITA A AUTENTICAÇÃO"
   ]
  },
  {
   "cell_type": "code",
   "execution_count": null,
   "id": "46c2582b",
   "metadata": {},
   "outputs": [],
   "source": [
    "# IMPLEMENTAÇÃO API DE AUTENTICAÇÃO"
   ]
  },
  {
   "cell_type": "markdown",
   "id": "d63dcb5c",
   "metadata": {},
   "source": [
    "#### 2.2 API Protegida "
   ]
  },
  {
   "cell_type": "markdown",
   "id": "7995bfa5",
   "metadata": {},
   "source": [
    "EXPLICAÇÃO DA ARQUITETURA DA API PROTEGIDA"
   ]
  },
  {
   "cell_type": "markdown",
   "id": "bcb1fde6",
   "metadata": {},
   "source": [
    "EXPLICAÇÃO DE COMO FUNCIONA A VERIFICAÇÃO DO JWT"
   ]
  },
  {
   "cell_type": "code",
   "execution_count": null,
   "id": "6d8c017a",
   "metadata": {},
   "outputs": [],
   "source": [
    "# IMPLEMENTACAO DA API PROTEGIDA"
   ]
  },
  {
   "cell_type": "markdown",
   "id": "62c2c34e",
   "metadata": {},
   "source": [
    "### 3. Cenário 1"
   ]
  },
  {
   "cell_type": "markdown",
   "id": "3c5247a1",
   "metadata": {},
   "source": [
    "EXPLICAR COMO O HMAC FUNCIONA"
   ]
  },
  {
   "cell_type": "markdown",
   "id": "dc7390b0",
   "metadata": {},
   "source": [
    "EXPLICAR VANTAGENS, APLICABILIDADE E MECANISMOS DE SEGURANÇA DO HMAC"
   ]
  },
  {
   "cell_type": "code",
   "execution_count": null,
   "id": "404951f0",
   "metadata": {},
   "outputs": [],
   "source": [
    "# IMPLEMENTAÇÃO DA AUTENTICAÇÃO DO JWT COM HMAC"
   ]
  },
  {
   "cell_type": "markdown",
   "id": "015155ea",
   "metadata": {},
   "source": [
    "#### 4. Cenário 2"
   ]
  },
  {
   "cell_type": "markdown",
   "id": "006dfa83",
   "metadata": {},
   "source": [
    "EXPLICAR COMO O RSA FUNCIONA"
   ]
  },
  {
   "cell_type": "markdown",
   "id": "f8926313",
   "metadata": {},
   "source": [
    "EXPLICAR VANTAGENS, APLICABILIDADE E MECANISMOS DE SEGURANÇA DO RSA"
   ]
  },
  {
   "cell_type": "code",
   "execution_count": null,
   "id": "6a650b1d",
   "metadata": {},
   "outputs": [],
   "source": [
    "# IMPLEMENTACAO DA AUTENTICACAO DO JWT COM RSA"
   ]
  }
 ],
 "metadata": {
  "language_info": {
   "name": "python"
  }
 },
 "nbformat": 4,
 "nbformat_minor": 5
}
